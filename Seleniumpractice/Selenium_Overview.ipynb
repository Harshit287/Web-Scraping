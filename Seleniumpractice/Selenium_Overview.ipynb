{
 "cells": [
  {
   "cell_type": "markdown",
   "metadata": {},
   "source": [
    "# set up"
   ]
  },
  {
   "cell_type": "code",
   "execution_count": 1,
   "metadata": {},
   "outputs": [],
   "source": [
    "# relevent packages and modules\n",
    "from selenium import webdriver\n",
    "from selenium.webdriver.common.keys import Keys\n",
    "from selenium.webdriver.common.by import By\n",
    "from selenium.webdriver.chrome.options import Options\n",
    "import time"
   ]
  },
  {
   "cell_type": "code",
   "execution_count": 2,
   "metadata": {},
   "outputs": [],
   "source": [
    "# relevent websites\n",
    "web_1 = \"https://www.geekbuying.com/search?keyword=laptop\"\n",
    "web_2 = \"http://automationpractice.com/index.php\""
   ]
  },
  {
   "cell_type": "code",
   "execution_count": 3,
   "metadata": {},
   "outputs": [],
   "source": [
    "# initialize chrome\n",
    "driver = webdriver.Chrome('C:\\webdriver\\chromedriver.exe')\n",
    "\n",
    "# open website\n",
    "driver.get(web_1)\n",
    "\n",
    "# Maximize Window\n",
    "driver.maximize_window()"
   ]
  },
  {
   "cell_type": "markdown",
   "metadata": {},
   "source": [
    "# Locators"
   ]
  },
  {
   "cell_type": "markdown",
   "metadata": {},
   "source": [
    "## 1. Xpath - locators"
   ]
  },
  {
   "cell_type": "code",
   "execution_count": 4,
   "metadata": {},
   "outputs": [],
   "source": [
    "price = driver.find_element_by_xpath('(//li[@class=\"searchResultItem\"]/div/div[3])[1]')"
   ]
  },
  {
   "cell_type": "code",
   "execution_count": 5,
   "metadata": {},
   "outputs": [
    {
     "name": "stdout",
     "output_type": "stream",
     "text": [
      "₹28066.24\n"
     ]
    }
   ],
   "source": [
    "print(price.text)"
   ]
  },
  {
   "cell_type": "code",
   "execution_count": 6,
   "metadata": {},
   "outputs": [],
   "source": [
    "prices = driver.find_elements_by_xpath('//li[@class=\"searchResultItem\"]/div/div[3]')"
   ]
  },
  {
   "cell_type": "code",
   "execution_count": 7,
   "metadata": {},
   "outputs": [
    {
     "data": {
      "text/plain": [
       "40"
      ]
     },
     "execution_count": 7,
     "metadata": {},
     "output_type": "execute_result"
    }
   ],
   "source": [
    "len(prices)"
   ]
  },
  {
   "cell_type": "code",
   "execution_count": 8,
   "metadata": {},
   "outputs": [
    {
     "name": "stdout",
     "output_type": "stream",
     "text": [
      "₹28066.24\n",
      "₹4600.38\n",
      "₹2299.81\n",
      "₹7821.18\n",
      "₹766.09\n",
      "₹919.46\n",
      "₹3143.35\n",
      "₹1609.63\n",
      "₹5597.30\n",
      "₹2069.75\n",
      "₹30673.55\n",
      "₹1916.38\n",
      "₹112727.36\n",
      "₹2299.81\n",
      "₹2299.81\n",
      "₹4830.44\n",
      "₹3833.52\n",
      "₹2069.75\n",
      "₹2606.55\n",
      "₹766.09\n",
      "₹3833.52\n",
      "₹1809.02\n",
      "₹15029.65\n",
      "₹30673.55\n",
      "₹1532.95\n",
      "₹55979.87\n",
      "₹10428.50\n",
      "₹4907.12\n",
      "₹4907.12\n",
      "₹3066.67\n",
      "₹2299.81\n",
      "₹1072.83\n",
      "₹1302.89\n",
      "₹919.46\n",
      "₹766.09\n",
      "₹52145.58\n",
      "₹2453.18\n",
      "₹55213.01\n",
      "₹1916.38\n",
      "₹32207.27\n"
     ]
    }
   ],
   "source": [
    "for p in prices:\n",
    "    print(p.text)"
   ]
  },
  {
   "cell_type": "markdown",
   "metadata": {},
   "source": [
    "## 2. class locators"
   ]
  },
  {
   "cell_type": "code",
   "execution_count": 9,
   "metadata": {},
   "outputs": [],
   "source": [
    "names = driver.find_elements_by_class_name('name')"
   ]
  },
  {
   "cell_type": "code",
   "execution_count": 10,
   "metadata": {},
   "outputs": [
    {
     "name": "stdout",
     "output_type": "stream",
     "text": [
      "40\n"
     ]
    }
   ],
   "source": [
    "print(len(names))"
   ]
  },
  {
   "cell_type": "code",
   "execution_count": 11,
   "metadata": {},
   "outputs": [
    {
     "data": {
      "text/plain": [
       "list"
      ]
     },
     "execution_count": 11,
     "metadata": {},
     "output_type": "execute_result"
    }
   ],
   "source": [
    "type(names)"
   ]
  },
  {
   "cell_type": "code",
   "execution_count": 12,
   "metadata": {},
   "outputs": [
    {
     "name": "stdout",
     "output_type": "stream",
     "text": [
      "ALLDOCUBE KNote X Pro Tablet Laptop Intel Gemini Lake N4100 13.3 Inch 1080P FHD Screen Windows 10 8GB RAM 128GB ROM - Grey\n",
      "Keyboard for One Netbook ONEXPLAYER Game Console Tablet PC Laptop\n",
      "Carrying Case Bag for One Netbook ONEXPLAYER Game Console Tablet PC Laptop\n",
      "Brown Workstation Computer Desk Laptop Table\n",
      "Portable Foldable Laptop Cooling Stand 4 Height Adjustable Non-slip Silicone For 11-17 Inch Notebook Tablet - White\n",
      "Protective Case for 8.9 Inch Magic-Ben MAG1 Pocket Laptop - Black\n",
      "Monitor Laptop Dual Desk Mount Bracket 13\"-23\"\n",
      "Laptop Stand Black 30.5x28x(24.5-37.5) cm Steel\n",
      "Draper Tools Expert Technicians Laptop Tool Case Blue and Black 89209\n",
      "Logitech Pebble Wireless Mouse Bluetooth 2.4GHz Mute Dual Modes Portable For PC - White\n",
      "KUU A10 Laptops Intel Celeron J4125 Processor 15.6-inch IPS Screen Office Notebook 8GB RAM 256GB SSD Windows 10 - Silver\n",
      "Original Charger for One Netbook One Mix 2S Yoga Pocket Laptop - Black\n",
      "One Netbook 4 Platinum Laptop 360 Degree YOGA 10.1\" Touch Screen Intel Core i7-1160G7 16GB DDR4 RAM 1TB PCI-E SSD WiFi 6 Windows 10 Fingerprint - Black\n",
      "Tronsmart Glary Gaming Headset 7.1 Virtual Surround Sound Stereo Sound with Colorful LED Lighting USB Interface Mic for PC\n",
      "Logitech G300S Wired Gaming Mouse 9 Programmable Keys 2500DPI Ergonomic Shape For PC / - Black\n",
      "Logitech G502 HERO Proteus Spectrum Wired Adaptive Gaming Mouse 12000DPI USB Computer Mouse For PC / - Black\n",
      "Logitech C270 HD Vid 720P Webcam With MIC Micphone Video Calling for Android TV Box/PC/\n",
      "Logitech Pebble Wireless Mouse Bluetooth 2.4GHz Mute Dual Modes Portable For PC - Black\n",
      "Logitech G302 Daedalus Prime MOBA Wired Optical Gaming Mouse Lightweight Design 4000 DPI For PC / - Black\n",
      "PU Leather Protective Case for 8.4\" One Netbook One Mix 3 / 3S Yoga Pocket Laptop - Black\n",
      "Xiaomi Wowstick 1F + Electric Screwdriver Bits Toolkit for Reparing Phone Toy Laptop Digital Product - Gray\n",
      "A878 114-key LED Backlit Wired USB Gaming Keyboard Adjustable Brightness With Crack Pattern For Desktop / - Black\n",
      "Tablets Laptops Game Consoles - Silver\n",
      "KUU A10 Laptops Intel Celeron J4125 Processor 15.6-inch IPS Screen Office Notebook 8GB RAM 256GB SSD Windows 10 - Black\n",
      "H20 White Backlight Full Screen Touchpad Mini 2.4G Wireless Keyboard for TV Box/Pad//PC - Black\n",
      "One Netbook A1 360 Degree 2 in 1 Pocket Laptop Intel M3-8100Y 8GB RAM 512GB PCIe SSD + Original Stylus Pen + Protective Case\n",
      "PRS200 Multifunctional Home Theater LED Projector 1500LM 800x480 with Keystone Correction for Desktop\n",
      "Xiaomi 23L Sports Leisure Backpack Waterproof 15.6-inch Laptop Bag Outdoor Travel Rucksack - Gray\n",
      "Xiaomi 23L Sports Leisure Backpack Waterproof 15.6-inch Laptop Bag Outdoor Travel Rucksack - Black\n",
      "Xiaomi 23L Sports Leisure Backpack Waterproof 15.6-inch Laptop Bag Outdoor Travel Rucksack - Gray\n",
      "Xiaomi Portable Mouse Mi Mouse Bluetooth 4.0 / RF 2.4GHz Wireless Dual Modes Connection for PC - Silver\n",
      "PU Leather Protective Case for 7\" One Netbook One Mix 2 / 2S Yoga Pocket Laptop - Black\n",
      "Xiaomi Wireless Mouse 2 Mute Portable Ultra-thin 2.4G Wireless 1000DPI For PC -White\n",
      "PU Leather Protective Case for 8.4\" One Netbook One Mix 3 Pro Yoga Pocket Laptop - Black\n",
      "USB Converter Hub 3*USB + 1*SD + 1*TF For Laptop Notebooks - Black\n",
      "One Netbook A1 360 Degree 2 in 1 Pocket Laptop Intel M3-8100Y 8GB RAM 256GB PCIe SSD + Original Stylus Pen\n",
      "HXSJ S3 1080P HD Webcam 5MP Auto Focus Built-in Microphone Adjustable Angle Support Video Conference For Desktop PC / - Black\n",
      "One Netbook A1 360 Degree 2 in 1 Pocket Laptop Intel M3-8100Y 8GB RAM 512GB PCIe SSD + Original Stylus Pen\n",
      "HXSJ S90 720P HD Webcam USB Compatible Adjustable Angle Automatic Color Correction Built-in Sound-absorbing Microphone For Desktop TV - Black\n",
      "Cenava PA156G Laptop Intel Celeron J4125 15.6 Inch 1920*1080 Windows 10 8GB RAM 512GB SSD - Silver\n"
     ]
    }
   ],
   "source": [
    "for n in names:\n",
    "    print(n.text)"
   ]
  },
  {
   "cell_type": "code",
   "execution_count": 13,
   "metadata": {},
   "outputs": [
    {
     "name": "stdout",
     "output_type": "stream",
     "text": [
      "ALLDOCUBE KNote X Pro Tablet Laptop Intel Gemini Lake N4100 13.3 Inch 1080P FHD Screen Windows 10 8GB RAM 128GB ROM - Grey\n"
     ]
    }
   ],
   "source": [
    "print(names[0].text)"
   ]
  },
  {
   "cell_type": "markdown",
   "metadata": {},
   "source": [
    "## 3. ID locators"
   ]
  },
  {
   "cell_type": "code",
   "execution_count": 14,
   "metadata": {},
   "outputs": [],
   "source": [
    "# initialize chrome\n",
    "driver2 = webdriver.Chrome('C:\\webdriver\\chromedriver.exe')\n",
    "\n",
    "# open website\n",
    "driver2.get(web_2)\n",
    "\n",
    "# wait 1sec\n",
    "time.sleep(1)\n",
    "\n",
    "# point to searchbar\n",
    "search = driver2.find_element_by_id('search_query_top')\n",
    "\n",
    "#click on searchbar\n",
    "search.click()\n",
    "time.sleep(1)\n",
    "\n",
    "# send keys to serachbar\n",
    "search.send_keys('hellohello')"
   ]
  },
  {
   "cell_type": "markdown",
   "metadata": {},
   "source": [
    "## 4. name locator"
   ]
  },
  {
   "cell_type": "code",
   "execution_count": 15,
   "metadata": {},
   "outputs": [],
   "source": [
    "# point to submit search button \n",
    "search_btn = driver2.find_element_by_name('submit_search')\n",
    "\n",
    "# click on it\n",
    "search_btn.click()"
   ]
  },
  {
   "cell_type": "markdown",
   "metadata": {},
   "source": [
    "## 5. link-text or partial-link-text locator"
   ]
  },
  {
   "cell_type": "code",
   "execution_count": 16,
   "metadata": {},
   "outputs": [],
   "source": [
    "#linktext\n",
    "contact = driver2.find_element_by_link_text('Contact us')"
   ]
  },
  {
   "cell_type": "code",
   "execution_count": 17,
   "metadata": {},
   "outputs": [],
   "source": [
    "#partial link text\n",
    "contact_partial = driver2.find_element_by_partial_link_text('ntact u')"
   ]
  },
  {
   "cell_type": "code",
   "execution_count": 18,
   "metadata": {},
   "outputs": [],
   "source": [
    "contact_partial.click()"
   ]
  },
  {
   "cell_type": "markdown",
   "metadata": {},
   "source": [
    "# Different ways to use locators"
   ]
  },
  {
   "cell_type": "code",
   "execution_count": 19,
   "metadata": {},
   "outputs": [],
   "source": [
    "#option 1: xpath locator\n",
    "prices = driver.find_elements_by_xpath('//li[@class=\"searchResultItem\"]/div/div[3]')\n",
    "\n",
    "#option 1: ID locator\n",
    "search = driver2.find_element_by_id('search_query_top')"
   ]
  },
  {
   "cell_type": "code",
   "execution_count": 20,
   "metadata": {},
   "outputs": [],
   "source": [
    "#option 2: xpath locator\n",
    "prices_2 = driver.find_elements(By.XPATH,'//li[@class=\"searchResultItem\"]/div/div[3]')\n",
    "\n",
    "#option 2: ID locator\n",
    "search_2 = driver2.find_element(By.ID,'search_query_top')"
   ]
  },
  {
   "cell_type": "code",
   "execution_count": 21,
   "metadata": {},
   "outputs": [
    {
     "data": {
      "text/plain": [
       "list"
      ]
     },
     "execution_count": 21,
     "metadata": {},
     "output_type": "execute_result"
    }
   ],
   "source": [
    "type(prices_2)"
   ]
  },
  {
   "cell_type": "code",
   "execution_count": 22,
   "metadata": {},
   "outputs": [
    {
     "data": {
      "text/plain": [
       "selenium.webdriver.remote.webelement.WebElement"
      ]
     },
     "execution_count": 22,
     "metadata": {},
     "output_type": "execute_result"
    }
   ],
   "source": [
    "type(search_2)"
   ]
  },
  {
   "cell_type": "markdown",
   "metadata": {},
   "source": [
    "# Selenium in action"
   ]
  },
  {
   "cell_type": "code",
   "execution_count": 23,
   "metadata": {},
   "outputs": [],
   "source": [
    "# initialize chrome\n",
    "driver2 = webdriver.Chrome('C:\\webdriver\\chromedriver.exe')\n",
    "\n",
    "# open website\n",
    "driver2.get(web_2)\n",
    "time.sleep(1)\n",
    "\n",
    "# point to searchbar\n",
    "search = driver2.find_element_by_id('search_query_top')\n",
    "\n",
    "#click on searchbar\n",
    "search.click()\n",
    "time.sleep(1)\n",
    "\n",
    "# send keys to serachbar\n",
    "search.send_keys('hello')\n",
    "\n",
    "# point to submit search button \n",
    "search_btn = driver2.find_element_by_name('submit_search')\n",
    "\n",
    "# click on it\n",
    "search_btn.click()\n",
    "\n",
    "#go back to previous page\n",
    "driver2.back()\n",
    "time.sleep(1)\n",
    "\n",
    "#click on contact us linktext\n",
    "contact = driver2.find_element_by_link_text('Contact us')\n",
    "contact.click()\n",
    "time.sleep(3)\n",
    "\n",
    "#close driver at the end\n",
    "driver2.close()"
   ]
  },
  {
   "cell_type": "markdown",
   "metadata": {},
   "source": [
    "# run everything in one step -- headless"
   ]
  },
  {
   "cell_type": "code",
   "execution_count": 24,
   "metadata": {},
   "outputs": [
    {
     "name": "stdout",
     "output_type": "stream",
     "text": [
      "webste opened\n",
      "text typed into search bar\n",
      "search button clicked\n",
      "get back to initial page\n",
      "click on contact us link by linktext locator\n",
      "driver closed - Bye Bye\n"
     ]
    }
   ],
   "source": [
    "chrome_options = Options()\n",
    "chrome_options.add_argument('--headless')\n",
    "\n",
    "# initialize chrome\n",
    "driver2 = webdriver.Chrome(executable_path='C:\\webdriver\\chromedriver.exe',options=chrome_options)\n",
    "\n",
    "# open website\n",
    "driver2.get(web_2)\n",
    "time.sleep(1)\n",
    "\n",
    "print(\"webste opened\")\n",
    "\n",
    "# point to searchbar\n",
    "search = driver2.find_element_by_id('search_query_top')\n",
    "\n",
    "#click on searchbar\n",
    "search.click()\n",
    "time.sleep(1)\n",
    "\n",
    "# send keys to serachbar\n",
    "search.send_keys('hello')\n",
    "\n",
    "print(\"text typed into search bar\")\n",
    "\n",
    "# point to submit search button \n",
    "search_btn = driver2.find_element_by_name('submit_search')\n",
    "\n",
    "# click on it\n",
    "search_btn.click()\n",
    "\n",
    "print(\"search button clicked\")\n",
    "\n",
    "#go back to previous page\n",
    "driver2.back()\n",
    "time.sleep(1)\n",
    "\n",
    "print(\"get back to initial page\")\n",
    "\n",
    "#click on contact us linktext\n",
    "contact = driver2.find_element_by_link_text('Contact us')\n",
    "contact.click()\n",
    "time.sleep(3)\n",
    "\n",
    "print(\"click on contact us link by linktext locator\")\n",
    "\n",
    "#close driver at the end\n",
    "driver2.close()\n",
    "\n",
    "print(\"driver closed - Bye Bye\")"
   ]
  }
 ],
 "metadata": {
  "kernelspec": {
   "display_name": "Python 3",
   "language": "python",
   "name": "python3"
  },
  "language_info": {
   "codemirror_mode": {
    "name": "ipython",
    "version": 3
   },
   "file_extension": ".py",
   "mimetype": "text/x-python",
   "name": "python",
   "nbconvert_exporter": "python",
   "pygments_lexer": "ipython3",
   "version": "3.8.5"
  }
 },
 "nbformat": 4,
 "nbformat_minor": 4
}
